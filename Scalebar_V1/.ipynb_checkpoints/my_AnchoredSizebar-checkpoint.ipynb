{
 "cells": [
  {
   "cell_type": "code",
   "execution_count": 1,
   "metadata": {},
   "outputs": [],
   "source": [
    "\n",
    "try:\n",
    "    from Functions.get_geo_axes_extent import get_distance\n",
    "except:\n",
    "    from . Functions.get_geo_axes_extent import get_distance\n",
    "\n",
    "try:\n",
    "    from Functions.add_background_to_scalebar import add_background\n",
    "except:\n",
    "    from . Functions.add_background_to_scalebar import add_background\n",
    "\n",
    "\n",
    "\n",
    "import cartopy.crs as ccrs\n",
    "\n",
    "from mpl_toolkits.axes_grid1.anchored_artists import AnchoredSizeBar\n",
    "\n",
    "from matplotlib import transforms\n",
    "\n",
    "from matplotlib.transforms import Bbox\n",
    "\n",
    "import matplotlib\n",
    "import matplotlib.pyplot as plt\n",
    "import geopandas as gpd\n",
    "import numpy as np\n",
    "import pandas as pd"
   ]
  },
  {
   "cell_type": "code",
   "execution_count": 2,
   "metadata": {},
   "outputs": [
    {
     "name": "stdout",
     "output_type": "stream",
     "text": [
      "Using matplotlib backend: Qt5Agg\n"
     ]
    }
   ],
   "source": [
    "%matplotlib"
   ]
  },
  {
   "cell_type": "code",
   "execution_count": 3,
   "metadata": {},
   "outputs": [],
   "source": [
    "Projection = ccrs.PlateCarree()"
   ]
  },
  {
   "cell_type": "code",
   "execution_count": 4,
   "metadata": {},
   "outputs": [
    {
     "data": {
      "text/html": [
       "<div>\n",
       "<style scoped>\n",
       "    .dataframe tbody tr th:only-of-type {\n",
       "        vertical-align: middle;\n",
       "    }\n",
       "\n",
       "    .dataframe tbody tr th {\n",
       "        vertical-align: top;\n",
       "    }\n",
       "\n",
       "    .dataframe thead th {\n",
       "        text-align: right;\n",
       "    }\n",
       "</style>\n",
       "<table border=\"1\" class=\"dataframe\">\n",
       "  <thead>\n",
       "    <tr style=\"text-align: right;\">\n",
       "      <th></th>\n",
       "      <th>NM_MUNICIP</th>\n",
       "      <th>CD_GEOCMU</th>\n",
       "      <th>UF_ID</th>\n",
       "      <th>geometry</th>\n",
       "    </tr>\n",
       "  </thead>\n",
       "  <tbody>\n",
       "    <tr>\n",
       "      <th>0</th>\n",
       "      <td>URUARÃ</td>\n",
       "      <td>1508159</td>\n",
       "      <td>15</td>\n",
       "      <td>POLYGON ((-53.82886240600001 -2.96325962599995...</td>\n",
       "    </tr>\n",
       "    <tr>\n",
       "      <th>1</th>\n",
       "      <td>REDENÃÃO</td>\n",
       "      <td>1506138</td>\n",
       "      <td>15</td>\n",
       "      <td>POLYGON ((-50.42375576800001 -7.74155583899990...</td>\n",
       "    </tr>\n",
       "    <tr>\n",
       "      <th>2</th>\n",
       "      <td>ABAETETUBA</td>\n",
       "      <td>1500107</td>\n",
       "      <td>15</td>\n",
       "      <td>POLYGON ((-48.83138539099997 -1.56352043699993...</td>\n",
       "    </tr>\n",
       "    <tr>\n",
       "      <th>3</th>\n",
       "      <td>BREJO GRANDE DO ARAGUAIA</td>\n",
       "      <td>1501758</td>\n",
       "      <td>15</td>\n",
       "      <td>POLYGON ((-48.30070702499997 -5.52300658699996...</td>\n",
       "    </tr>\n",
       "    <tr>\n",
       "      <th>4</th>\n",
       "      <td>FLORESTA DO ARAGUAIA</td>\n",
       "      <td>1503044</td>\n",
       "      <td>15</td>\n",
       "      <td>POLYGON ((-49.19127194999996 -7.14970454599997...</td>\n",
       "    </tr>\n",
       "  </tbody>\n",
       "</table>\n",
       "</div>"
      ],
      "text/plain": [
       "                 NM_MUNICIP CD_GEOCMU UF_ID  \\\n",
       "0                   URUARÃ   1508159    15   \n",
       "1                REDENÃÃO   1506138    15   \n",
       "2                ABAETETUBA   1500107    15   \n",
       "3  BREJO GRANDE DO ARAGUAIA   1501758    15   \n",
       "4      FLORESTA DO ARAGUAIA   1503044    15   \n",
       "\n",
       "                                            geometry  \n",
       "0  POLYGON ((-53.82886240600001 -2.96325962599995...  \n",
       "1  POLYGON ((-50.42375576800001 -7.74155583899990...  \n",
       "2  POLYGON ((-48.83138539099997 -1.56352043699993...  \n",
       "3  POLYGON ((-48.30070702499997 -5.52300658699996...  \n",
       "4  POLYGON ((-49.19127194999996 -7.14970454599997...  "
      ]
     },
     "execution_count": 4,
     "metadata": {},
     "output_type": "execute_result"
    }
   ],
   "source": [
    "SHP = gpd.read_file(r'C:\\Doutorado\\BD\\IBGE\\IBGE_Estruturas_cartograficas_Brasil\\2017\\Unidades_Censitarias\\Municipios\\MUNICIPIOS_PARA.shp')\n",
    "\n",
    "SHP.head()"
   ]
  },
  {
   "cell_type": "code",
   "execution_count": null,
   "metadata": {},
   "outputs": [],
   "source": [
    "\n"
   ]
  },
  {
   "cell_type": "code",
   "execution_count": 5,
   "metadata": {},
   "outputs": [],
   "source": [
    "# init params:\n",
    "\n"
   ]
  },
  {
   "cell_type": "code",
   "execution_count": 184,
   "metadata": {},
   "outputs": [],
   "source": [
    "def make_AnchoredSizeBar(rounding_value_for_xsize=2,\n",
    "                        decimal_separator=',',\n",
    "                        x0=0.82,\n",
    "                        y0=0.1,\n",
    "                        x1=1,\n",
    "                        y1=0.6,\n",
    "                        sep=2,\n",
    "                        pad=.5,\n",
    "                        borderpad=0,\n",
    "                        x_size_in_data_units=3,\n",
    "                        loc='center',\n",
    "                        facecolor='k',\n",
    "                        face_alpha=0.8,\n",
    "                        edgecolor = 'k',\n",
    "                        background_linewidth=1,\n",
    "                        length_unit='km',\n",
    "                        unit_transformation_function=None,\n",
    "                        fontproperties=None,\n",
    "                        label_top=True,\n",
    "                        bar_height=0.02,\n",
    "                        fill_bar=True,\n",
    "                        override_label=False):\n",
    "    \n",
    "    trans = transforms.blended_transform_factory(ax.transData, ax.figure.transFigure)\n",
    "\n",
    "\n",
    "\n",
    "    if not isinstance(fontproperties, matplotlib.font_manager.FontProperties):\n",
    "\n",
    "        from matplotlib.font_manager import FontProperties\n",
    "\n",
    "\n",
    "        fontproperties = FontProperties(family='calibri', weight='light', style='normal', size=10)\n",
    "\n",
    "    if (length_unit.lower() not in ['km', 'm', 'meter', 'kilometer']) and unit_transformation_function == None:\n",
    "        raise Exception(\"\"\"If length_unit is not Km or meter unit, a transformation function must be supplied for the attribute \\\n",
    "                            unit_transformation_function \"\"\")\n",
    "\n",
    "    \n",
    "    L1 = str(get_distance(ax = ax, \n",
    "                              x_size_in_data_units = x_size_in_data_units, \n",
    "                              rounding_value_for_xsize = rounding_value_for_xsize,\n",
    "                              length_unit = length_unit, \n",
    "                              unit_transformation_function = unit_transformation_function)).replace('.',decimal_separator)\n",
    "    \n",
    "    \n",
    "    Final_label = '{0} {1}'.format(L1, length_unit)\n",
    "    if override_label == True:\n",
    "        Final_label = None\n",
    "        \n",
    "    \n",
    "    bar = AnchoredSizeBar(transform=trans, \n",
    "                          loc=loc,\n",
    "                          color=facecolor,\n",
    "                          size=x_size_in_data_units,\n",
    "                          size_vertical=bar_height,\n",
    "                          label= Final_label,\n",
    "                          label_top=label_top,\n",
    "                          pad=pad, \n",
    "                          fontproperties=fontproperties,\n",
    "                          borderpad=borderpad, \n",
    "                          sep=sep, \n",
    "                          frameon=False, \n",
    "                          fill_bar=fill_bar,\n",
    "                          bbox_to_anchor = Bbox.from_extents(x0, y0, x1, y1),\n",
    "                          bbox_transform=ax.figure.transFigure)\n",
    "    \n",
    "   \n",
    "    \n",
    "    bar_path = bar.size_bar.get_children()[0]\n",
    "\n",
    "    #bar_path.set_facecolor( facecolor )\n",
    "    bar_path.set_alpha(face_alpha)\n",
    "    \n",
    "    \n",
    "    bar.patch.set_boxstyle(\"round , pad=200000.,rounding_size=0.2\")\n",
    "\n",
    "    bar_path.set_edgecolor(edgecolor)\n",
    "    \n",
    "\n",
    "\n",
    "    return bar"
   ]
  },
  {
   "cell_type": "code",
   "execution_count": 185,
   "metadata": {},
   "outputs": [],
   "source": [
    "from matplotlib.patches import Rectangle, Ellipse\n",
    "\n",
    "from matplotlib.offsetbox import AnchoredOffsetbox, AuxTransformBox, VPacker,\\\n",
    "     TextArea, DrawingArea\n",
    "\n",
    "\n",
    "\n",
    "class AnchoredSizeBar_mixed(AnchoredOffsetbox):\n",
    "    def __init__(self, transform, size, width, loc,width_Vpack, height_Vpack,\n",
    "                 pad=0.1, borderpad=0.1, sep=2, prop=None, frameon=True, edgecolor='k'):\n",
    "        \"\"\"\n",
    "        Draw a horizontal bar with the size in data coordinate of the give axes.\n",
    "        A label will be drawn underneath (center-aligned).\n",
    "\n",
    "        pad, borderpad in fraction of the legend font size (or prop)\n",
    "        sep in points.\n",
    "        \"\"\"\n",
    "        \n",
    "        bar = make_AnchoredSizeBar(x_size_in_data_units=4)\n",
    "        bar_patch = bar.size_bar.get_children()[0]\n",
    "        x = bar_patch.get_width()\n",
    "        y = bar_patch.get_height()\n",
    "        self.size_bar = AuxTransformBox(bar.get_transform())\n",
    "        \n",
    "        self.size_bar.add_artist(Rectangle((0,0), x*(1+size), y*(1+width), fc=\"orange\", fill=True, edgecolor=edgecolor, transform=bar.get_transform()))\n",
    "\n",
    "        \n",
    "                \n",
    "       \n",
    "    \n",
    "        self._box = VPacker(children=[self.size_bar, bar],\n",
    "                    align=\"center\", width=width_Vpack, height=height_Vpack,\n",
    "                    pad=pad, sep=sep)\n",
    "\n",
    "\n",
    "        AnchoredOffsetbox.__init__(self, loc, pad=pad, borderpad=borderpad,\n",
    "                                   child=self._box,\n",
    "                                   prop=prop,\n",
    "                                   frameon=frameon,\n",
    "                                   bbox_to_anchor=bar.get_bbox_to_anchor(), \n",
    "                                   bbox_transform=bar.get_transform())\n"
   ]
  },
  {
   "cell_type": "code",
   "execution_count": 186,
   "metadata": {},
   "outputs": [
    {
     "name": "stdout",
     "output_type": "stream",
     "text": [
      "sbx 334284.6187591856\n",
      "sbx 367713.08063510415\n",
      "sbx 334284.6187591856\n"
     ]
    }
   ],
   "source": [
    "if fig:\n",
    "    plt.close(fig)\n",
    "\n",
    "fig, ax = plt.subplots(1, subplot_kw={'projection':Projection})\n",
    "\n",
    "Gridliner = ax.gridlines(crs=Projection, draw_labels=True)\n",
    "\n",
    "SHP.plot(ax=ax, transform=Projection)\n",
    "\n",
    "Gridliner.xlabels_top = False\n",
    "Gridliner.ylabels_right = False\n",
    "\n",
    "\n",
    "\n",
    "\n",
    "for i, color in zip([0,1,0], ['k', 'white', 'k']):\n",
    "\n",
    "    bar = make_AnchoredSizeBar( x_size_in_data_units=(3 * (1+(0.1*i))),\n",
    "                                y1=0.1* (1-(0.45*i))  ,\n",
    "                                y0=0.1* (1+(0.75*i)) ,\n",
    "                                bar_height=0.02 * (1+(3*i)),\n",
    "                               facecolor=color, face_alpha=(1-(0.3*i)),\n",
    "                               override_label=i)\n",
    "\n",
    "    ax.add_artist(bar)\n",
    "\n",
    "fig.show()\n",
    "\n"
   ]
  },
  {
   "cell_type": "code",
   "execution_count": null,
   "metadata": {},
   "outputs": [],
   "source": []
  },
  {
   "cell_type": "code",
   "execution_count": 127,
   "metadata": {},
   "outputs": [
    {
     "name": "stdout",
     "output_type": "stream",
     "text": [
      "sbx 334284.6187591856\n",
      "sbx 367713.08063510415\n"
     ]
    }
   ],
   "source": [
    "\n"
   ]
  },
  {
   "cell_type": "code",
   "execution_count": null,
   "metadata": {},
   "outputs": [],
   "source": [
    "\n",
    "bar_patch = bar.size_bar.get_children()[0]"
   ]
  }
 ],
 "metadata": {
  "kernelspec": {
   "display_name": "Python 3",
   "language": "python",
   "name": "python3"
  },
  "language_info": {
   "codemirror_mode": {
    "name": "ipython",
    "version": 3
   },
   "file_extension": ".py",
   "mimetype": "text/x-python",
   "name": "python",
   "nbconvert_exporter": "python",
   "pygments_lexer": "ipython3",
   "version": "3.6.4"
  }
 },
 "nbformat": 4,
 "nbformat_minor": 2
}
